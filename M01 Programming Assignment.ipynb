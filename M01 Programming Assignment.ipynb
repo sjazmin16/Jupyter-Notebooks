{
 "cells": [
  {
   "cell_type": "code",
   "execution_count": 1,
   "id": "d26ebfad-7982-4bd9-a8d3-df1f2ba9e5a6",
   "metadata": {},
   "outputs": [
    {
     "name": "stdout",
     "output_type": "stream",
     "text": [
      "3600\n"
     ]
    }
   ],
   "source": [
    "sec_in_min = 60\n",
    "min_in_hour = 60\n",
    "\n",
    "sec_in_hour = sec_in_min * min_in_hour\n",
    "print(sec_in_hour)"
   ]
  },
  {
   "cell_type": "code",
   "execution_count": 4,
   "id": "11da6b44-6887-4021-a48b-b658c8c71157",
   "metadata": {},
   "outputs": [
    {
     "name": "stdout",
     "output_type": "stream",
     "text": [
      "3600\n"
     ]
    }
   ],
   "source": [
    "seconds_per_hour = sec_in_hour\n",
    "print(seconds_per_hour)"
   ]
  },
  {
   "cell_type": "code",
   "execution_count": 5,
   "id": "61b9b337-5376-4934-9426-fc4196018f43",
   "metadata": {},
   "outputs": [
    {
     "name": "stdout",
     "output_type": "stream",
     "text": [
      "86400\n"
     ]
    }
   ],
   "source": [
    "seconds_in_day = 24 * seconds_per_hour\n",
    "print(seconds_in_day)"
   ]
  },
  {
   "cell_type": "code",
   "execution_count": 9,
   "id": "c051d938-7d0d-4b5d-8e86-c8bfb6a7a256",
   "metadata": {},
   "outputs": [
    {
     "name": "stdout",
     "output_type": "stream",
     "text": [
      "86400\n"
     ]
    }
   ],
   "source": [
    "seconds_per_day = 24 * seconds_per_hour\n",
    "print(seconds_per_day)"
   ]
  },
  {
   "cell_type": "code",
   "execution_count": 17,
   "id": "330d81fc-3520-482d-a32d-52b31bfd4db8",
   "metadata": {},
   "outputs": [
    {
     "name": "stdout",
     "output_type": "stream",
     "text": [
      "3600.0\n"
     ]
    }
   ],
   "source": [
    "seconds_day_hour = seconds_per_day / seconds_per_hour\n",
    "print(seconds_day_hour)"
   ]
  },
  {
   "cell_type": "code",
   "execution_count": 18,
   "id": "b9d0838f-f9be-487c-98e0-3d7744963be5",
   "metadata": {},
   "outputs": [
    {
     "name": "stdout",
     "output_type": "stream",
     "text": [
      "3600.0\n"
     ]
    }
   ],
   "source": [
    "seconds_day_hour2 = seconds_per_day / seconds_per_hour\n",
    "print(seconds_day_hour2)\n"
   ]
  }
 ],
 "metadata": {
  "kernelspec": {
   "display_name": "Python 3 (ipykernel)",
   "language": "python",
   "name": "python3"
  },
  "language_info": {
   "codemirror_mode": {
    "name": "ipython",
    "version": 3
   },
   "file_extension": ".py",
   "mimetype": "text/x-python",
   "name": "python",
   "nbconvert_exporter": "python",
   "pygments_lexer": "ipython3",
   "version": "3.11.7"
  }
 },
 "nbformat": 4,
 "nbformat_minor": 5
}
